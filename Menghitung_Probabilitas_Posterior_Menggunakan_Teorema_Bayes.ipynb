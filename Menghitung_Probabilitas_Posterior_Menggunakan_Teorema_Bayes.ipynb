{
 "cells": [
  {
   "cell_type": "markdown",
   "metadata": {},
   "source": [
    "## Menghitung Probabilitas Posterior Menggunakan Teorema Bayes"
   ]
  },
  {
   "cell_type": "markdown",
   "metadata": {},
   "source": [
    "### Langkah 1: Import Library\n",
    "\n",
    "Import library yang dibutuhkan, dalam kasus ini kita akan menggunakan NumPy."
   ]
  },
  {
   "cell_type": "code",
   "execution_count": 1,
   "metadata": {},
   "outputs": [],
   "source": [
    "import numpy as np"
   ]
  },
  {
   "cell_type": "markdown",
   "metadata": {},
   "source": [
    "### Langkah 2: Menentukan Probabilitas Prior\n",
    "\n",
    "Probabilitas prior adalah probabilitas awal bahwa seorang pasien memiliki penyakit sebelum hasil tes dilakukan. Dalam kasus ini, probabilitas prior ditentukan sebagai berikut:\n",
    "\n",
    "$$ P(\\text{penyakit}) = 0.01 $$"
   ]
  },
  {
   "cell_type": "code",
   "execution_count": 17,
   "metadata": {},
   "outputs": [],
   "source": [
    "probabilitas_penyakit = 0.01"
   ]
  },
  {
   "cell_type": "markdown",
   "metadata": {},
   "source": [
    "### Langkah 3: Menghitung Probabilitas Posterior\n",
    "\n",
    "Untuk menghitung probabilitas posterior, kita menggunakan Teorema Bayes. Langkah-langkahnya adalah sebagai berikut:"
   ]
  },
  {
   "cell_type": "markdown",
   "metadata": {},
   "source": [
    "#### 3.1. Menghitung Probabilitas Tes Positif pada Individu yang Benar-benar Sakit\n",
    "\n",
    "Probabilitas tes positif pada individu yang benar-benar sakit adalah probabilitas bahwa tes akan memberikan hasil positif jika subjeknya sebenarnya memiliki penyakit. Dalam kasus ini, kita menggunakan nilai kesalahan negatif palsu, yang merupakan persentase dari orang yang sebenarnya sakit tetapi dites negatif.\n",
    "\n",
    "Misalnya, dengan tingkat kesalahan negatif palsu sebesar `2%`, ini berarti jika ada `100` orang yang sebenarnya sakit, sekitar `2` orang akan mendapat hasil tes negatif. Oleh karena itu, probabilitas tes positif pada individu yang benar-benar sakit adalah `98%` atau `0.98`.\n",
    "\n",
    "Probabilitas tes positif pada individu yang benar-benar sakit dapat dihitung menggunakan rumus:\n",
    "\n",
    "$$P(\\text{positif}|\\text{sakit}) = 1 - \\text{tingkat kesalahan negatif palsu}$$"
   ]
  },
  {
   "cell_type": "code",
   "execution_count": 13,
   "metadata": {},
   "outputs": [
    {
     "name": "stdout",
     "output_type": "stream",
     "text": [
      "Probabilitas Tes Positif Sakit: 0.98\n"
     ]
    }
   ],
   "source": [
    "tingkat_kesalahan_negatif_palsu = 0.02\n",
    "prob_positif_sakit = 1 - tingkat_kesalahan_negatif_palsu\n",
    "print(\"Probabilitas Tes Positif Sakit:\", prob_positif_sakit)\n"
   ]
  },
  {
   "cell_type": "markdown",
   "metadata": {},
   "source": [
    "#### 3.2. Menghitung Probabilitas Tes Negatif pada Individu yang Tidak Sakit\n",
    "\n",
    "Probabilitas tes negatif pada individu yang tidak sakit adalah probabilitas bahwa tes akan memberikan hasil negatif jika subjeknya sebenarnya sehat. Dalam kasus ini, kita menggunakan nilai kesalahan positif palsu, yang merupakan persentase dari orang yang sehat tetapi dites positif.\n",
    "\n",
    "Misalnya, dengan tingkat kesalahan positif palsu sebesar `5%`, ini berarti jika ada `100` orang yang sebenarnya sehat, sekitar `5` orang akan mendapat hasil tes positif. Oleh karena itu, probabilitas tes negatif pada individu yang tidak sakit adalah `95%` atau `0.95`.\n",
    "\n",
    "Probabilitas tes negatif pada individu yang tidak sakit dapat dihitung menggunakan rumus:\n",
    "\n",
    "$$P(\\text{negatif}|\\text{sehat}) = 1 - \\text{tingkat kesalahan positif palsu}$$"
   ]
  },
  {
   "cell_type": "code",
   "execution_count": 11,
   "metadata": {},
   "outputs": [
    {
     "name": "stdout",
     "output_type": "stream",
     "text": [
      "Probabilitas Tes Negatif yang Tidak Sakit: 0.95\n"
     ]
    }
   ],
   "source": [
    "tingkat_kesalahan_positif_palsu = 0.05\n",
    "prob_negatif_sehat = 1 - tingkat_kesalahan_positif_palsu\n",
    "print(\"Probabilitas Tes Negatif yang Tidak Sakit:\", prob_negatif_sehat)\n"
   ]
  },
  {
   "cell_type": "markdown",
   "metadata": {},
   "source": [
    "#### 3.3. Menghitung Probabilitas Tes Positif Secara Keseluruhan dengan Hukum Total Probabilitas\n",
    "\n",
    "Probabilitas tes positif secara keseluruhan adalah probabilitas bahwa tes akan memberikan hasil positif pada individu apa pun, terlepas dari apakah mereka sehat atau sakit. Ini dihitung dengan menggunakan hukum total probabilitas, yang menggabungkan probabilitas hasil positif dari individu yang sehat dan sakit.\n",
    "\n",
    "Misalnya, jika kita memiliki populasi di mana `1%` menderita penyakit, maka `99%` sisanya dianggap sehat. Dengan tingkat kesalahan positif palsu sebesar `5%`, ini berarti sekitar `5%` dari `99%` individu sehat akan menghasilkan tes positif, sedangkan `98%` dari `1%` individu sakit akan menghasilkan tes positif. \n",
    "\n",
    "Oleh karena itu, probabilitas tes positif secara keseluruhan adalah hasil dari perkalian probabilitas individu sehat menghasilkan tes positif dan probabilitas individu sakit menghasilkan tes positif.\n",
    "\n",
    "Probabilitas tes positif secara keseluruhan dapat dihitung dengan hukum total probabilitas:\n",
    "\n",
    "$$P(\\text{positif}) = P(\\text{positif}|\\text{sakit}) \\times P(\\text{sakit}) + P(\\text{positif}|\\text{sehat}) \\times P(\\text{sehat})$$"
   ]
  },
  {
   "cell_type": "code",
   "execution_count": 18,
   "metadata": {},
   "outputs": [
    {
     "name": "stdout",
     "output_type": "stream",
     "text": [
      "Probabilitas Tes Positif Secara Keseluruhan dengan Hukum Total Probabilitas: 0.05930000000000005\n"
     ]
    }
   ],
   "source": [
    "prob_sehat = 1 - probabilitas_penyakit\n",
    "prob_positif = prob_positif_sakit * probabilitas_penyakit + (1 - prob_negatif_sehat) * prob_sehat\n",
    "print(\"Probabilitas Tes Positif Secara Keseluruhan dengan Hukum Total Probabilitas:\", prob_positif)\n"
   ]
  },
  {
   "cell_type": "markdown",
   "metadata": {},
   "source": [
    "#### 3.4. Menggunakan Teorema Bayes untuk Menghitung Probabilitas Posterior\n",
    "\n",
    "Menggunakan Teorema Bayes, kita dapat menghitung probabilitas posterior bahwa seorang pasien yang mendapat tes positif pada tes laboratorium juga benar-benar memiliki penyakit ini. Ini menggabungkan probabilitas prior (probabilitas awal bahwa pasien memiliki penyakit) dengan hasil tes positif yang baru saja diperoleh.\n",
    "\n",
    "Probabilitas posterior dapat dihitung menggunakan Teorema Bayes:\n",
    "\n",
    "$$P(H|X) = \\frac{{P(X | H) \\times P(H)}}{{P(X)}}$$\n",
    "\n",
    "Di mana:\n",
    "- `P(H|X)` adalah probabilitas posterior dari hipotesis \\( H \\) setelah diberikan data \\( X \\).\n",
    "- `P(X | H)` adalah probabilitas likelihood dari data \\( X \\) jika hipotesis \\( H \\) benar.\n",
    "- `P(H)` adalah probabilitas prior dari hipotesis \\( H \\).\n",
    "- `P(X)` adalah probabilitas dari data \\( X \\) secara keseluruhan.\n",
    "\n",
    "Rumus ini digunakan untuk memperbarui probabilitas prior dengan informasi baru yang diberikan oleh data, sehingga menghasilkan probabilitas posterior yang diperbarui."
   ]
  },
  {
   "cell_type": "markdown",
   "metadata": {},
   "source": [
    "### Hasil Perhitungan\n",
    "\n",
    "\n",
    "- Probabilitas Tes Negatif yang Tidak Sakit: `0.95`\n",
    "- Probabilitas Tes Positif Sakit: `0.98`\n",
    "- Probabilitas Tes Positif Secara Keseluruhan dengan Hukum Total Probabilitas: `0.05930000000000005`\n",
    "\n",
    "Kita akan menggunakan Teorema Bayes untuk menghitung probabilitas posterior bahwa seorang pasien yang mendapat tes positif pada tes laboratorium juga benar-benar memiliki penyakit ini. Teorema Bayes menyatakan bahwa:\n",
    "\n",
    "$$P(\\text{sakit}|\\text{positif}) = \\frac{{P(\\text{positif}|\\text{sakit}) \\times P(\\text{sakit})}}{{P(\\text{positif})}}$$\n",
    "\n",
    "Di mana:\n",
    "\n",
    "- `P(sakit|positif)` adalah probabilitas posterior bahwa pasien memiliki penyakit jika mendapat tes positif.\n",
    "- `P(positif|sakit)` adalah probabilitas tes positif pada individu yang benar-benar sakit `(0.98)`.\n",
    "- `P(sakit)` adalah probabilitas prior bahwa pasien memiliki penyakit `(1% atau 0.01)`.\n",
    "- `P(positif)` adalah probabilitas tes positif secara keseluruhan `(0.05930000000000005)`.\n",
    "\n",
    "\n",
    "Kita dapat menghitung probabilitas posterior menggunakan rumus tersebut:\n",
    "\n",
    "$$P(\\text{sakit}|\\text{positif}) = \\frac{{0.98 \\times 0.01}}{{0.05930000000000005}}$$\n",
    "\n",
    "$$P(\\text{sakit}|\\text{positif}) \\approx \\frac{{0.0098}}{{0.05930000000000005}} \\approx 0.16526$$"
   ]
  },
  {
   "cell_type": "code",
   "execution_count": 28,
   "metadata": {},
   "outputs": [
    {
     "name": "stdout",
     "output_type": "stream",
     "text": [
      "Probabilitas Posterior: 0.16526138279932534\n"
     ]
    }
   ],
   "source": [
    "probabilitas_posterior = (prob_positif_sakit * probabilitas_penyakit) / prob_positif\n",
    "print(\"Probabilitas Posterior:\", probabilitas_posterior)"
   ]
  },
  {
   "cell_type": "markdown",
   "metadata": {},
   "source": [
    "Jadi, probabilitas posterior bahwa seorang pasien yang mendapat tes positif pada tes laboratorium juga benar-benar memiliki penyakit ini adalah sekitar `16.526%`. Ini berarti ada sekitar `16.526%` kemungkinan bahwa pasien yang mendapat tes positif sebenarnya memiliki penyakit yang diuji."
   ]
  },
  {
   "cell_type": "markdown",
   "metadata": {},
   "source": [
    "### Kesimpulan\n",
    "\n",
    "Probabilitas posterior ini memberikan perkiraan seberapa mungkin seorang pasien memiliki penyakit berdasarkan hasil tes laboratorium yang positif. Informasi ini dapat membantu dokter dalam proses diagnosa penyakit dengan memberikan panduan tambahan dalam menetapkan diagnosis dan memilih langkah-langkah pengobatan yang sesuai. Semakin tinggi probabilitas posterior, semakin besar kemungkinan pasien memiliki penyakit tersebut, dan dokter mungkin perlu melakukan lebih banyak tes atau pengamatan untuk mengonfirmasi diagnosis."
   ]
  }
 ],
 "metadata": {
  "kernelspec": {
   "display_name": "bol_datascience_course",
   "language": "python",
   "name": "python3"
  },
  "language_info": {
   "codemirror_mode": {
    "name": "ipython",
    "version": 3
   },
   "file_extension": ".py",
   "mimetype": "text/x-python",
   "name": "python",
   "nbconvert_exporter": "python",
   "pygments_lexer": "ipython3",
   "version": "3.8.18"
  }
 },
 "nbformat": 4,
 "nbformat_minor": 2
}
