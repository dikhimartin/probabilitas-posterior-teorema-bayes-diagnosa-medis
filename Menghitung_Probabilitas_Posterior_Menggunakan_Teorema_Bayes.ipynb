{
 "cells": [
  {
   "cell_type": "markdown",
   "metadata": {},
   "source": [
    "## Menghitung Probabilitas Posterior Menggunakan Teorema Bayes"
   ]
  },
  {
   "cell_type": "markdown",
   "metadata": {},
   "source": [
    "### Langkah 1: Import Library\n",
    "\n",
    "Import library yang dibutuhkan, dalam kasus ini kita akan menggunakan NumPy."
   ]
  },
  {
   "cell_type": "code",
   "execution_count": 1,
   "metadata": {},
   "outputs": [],
   "source": [
    "import numpy as np"
   ]
  },
  {
   "cell_type": "markdown",
   "metadata": {},
   "source": [
    "### Langkah 2: Menentukan Probabilitas Prior\n",
    "\n",
    "Probabilitas prior adalah probabilitas awal bahwa seorang pasien memiliki penyakit sebelum hasil tes dilakukan. Dalam kasus ini, probabilitas prior ditentukan sebagai berikut:\n",
    "\n",
    "$$ P(\\text{penyakit}) = 0.01 $$"
   ]
  },
  {
   "cell_type": "code",
   "execution_count": 27,
   "metadata": {},
   "outputs": [],
   "source": [
    "probabilitas_penyakit = 0.01"
   ]
  },
  {
   "cell_type": "markdown",
   "metadata": {},
   "source": [
    "### Langkah 3: Menghitung Probabilitas Posterior\n",
    "\n",
    "Untuk menghitung probabilitas posterior, kita menggunakan Teorema Bayes. Langkah-langkahnya adalah sebagai berikut:"
   ]
  },
  {
   "cell_type": "markdown",
   "metadata": {},
   "source": [
    "#### 3.1. Menghitung Probabilitas Tes Positif pada Individu yang Benar-benar Sakit\n",
    "\n",
    "Probabilitas tes positif pada individu yang benar-benar sakit dapat dihitung menggunakan rumus:\n",
    "\n",
    "$$P(\\text{positif}|\\text{sakit}) = 1 - \\text{tingkat kesalahan negatif palsu}$$"
   ]
  },
  {
   "cell_type": "code",
   "execution_count": 28,
   "metadata": {},
   "outputs": [
    {
     "name": "stdout",
     "output_type": "stream",
     "text": [
      "Probabilitas Tes Positif Sakit: 0.98\n"
     ]
    }
   ],
   "source": [
    "tingkat_kesalahan_negatif_palsu = 0.02\n",
    "prob_positif_sakit = 1 - tingkat_kesalahan_negatif_palsu\n",
    "print(\"Probabilitas Tes Positif Sakit:\", prob_positif_sakit)\n"
   ]
  },
  {
   "cell_type": "markdown",
   "metadata": {},
   "source": [
    "#### 3.2. Menghitung Probabilitas Tes Negatif pada Individu yang Tidak Sakit\n",
    "\n",
    "Probabilitas tes negatif pada individu yang tidak sakit dapat dihitung menggunakan rumus:\n",
    "\n",
    "$$P(\\text{negatif}|\\text{sehat}) = 1 - \\text{tingkat kesalahan positif palsu}$$"
   ]
  },
  {
   "cell_type": "code",
   "execution_count": 29,
   "metadata": {},
   "outputs": [
    {
     "name": "stdout",
     "output_type": "stream",
     "text": [
      "Probabilitas Tes Negatif yang Tidak Sakit: 0.95\n"
     ]
    }
   ],
   "source": [
    "tingkat_kesalahan_positif_palsu = 0.05\n",
    "prob_negatif_sehat = 1 - tingkat_kesalahan_positif_palsu\n",
    "print(\"Probabilitas Tes Negatif yang Tidak Sakit:\", prob_negatif_sehat)\n"
   ]
  },
  {
   "cell_type": "markdown",
   "metadata": {},
   "source": [
    "#### 3.3. Menghitung Probabilitas Tes Positif Secara Keseluruhan dengan Hukum Total Probabilitas\n",
    "\n",
    "Probabilitas tes positif secara keseluruhan dapat dihitung dengan hukum total probabilitas:\n",
    "\n",
    "$$P(\\text{positif}) = P(\\text{positif}|\\text{sakit}) \\times P(\\text{sakit}) + P(\\text{positif}|\\text{sehat}) \\times P(\\text{sehat})$$"
   ]
  },
  {
   "cell_type": "code",
   "execution_count": 30,
   "metadata": {},
   "outputs": [
    {
     "name": "stdout",
     "output_type": "stream",
     "text": [
      "Probabilitas Tes Positif Secara Keseluruhan dengan Hukum Total Probabilitas: 0.05930000000000005\n"
     ]
    }
   ],
   "source": [
    "prob_sehat = 1 - probabilitas_penyakit\n",
    "prob_positif = prob_positif_sakit * probabilitas_penyakit + (1 - prob_negatif_sehat) * prob_sehat\n",
    "print(\"Probabilitas Tes Positif Secara Keseluruhan dengan Hukum Total Probabilitas:\", prob_positif)\n"
   ]
  },
  {
   "cell_type": "markdown",
   "metadata": {},
   "source": [
    "#### 3.4. Menggunakan Teorema Bayes untuk Menghitung Probabilitas Posterior\n",
    "\n",
    "Probabilitas posterior dapat dihitung menggunakan Teorema Bayes:\n",
    "\n",
    "$$P(\\text{sakit}|\\text{positif}) = \\frac{{P(\\text{positif}|\\text{sakit}) \\times P(\\text{sakit})}}{{P(\\text{positif})}}$$"
   ]
  },
  {
   "cell_type": "code",
   "execution_count": 8,
   "metadata": {},
   "outputs": [],
   "source": [
    "probabilitas_posterior = (prob_positif_sakit * probabilitas_penyakit) / prob_positif"
   ]
  },
  {
   "cell_type": "markdown",
   "metadata": {},
   "source": [
    "### Hasil Perhitungan\n",
    "\n",
    "Probabilitas posterior bahwa seorang pasien yang mendapat tes positif pada tes laboratorium juga benar-benar memiliki penyakit ini adalah:"
   ]
  },
  {
   "cell_type": "code",
   "execution_count": 33,
   "metadata": {},
   "outputs": [
    {
     "name": "stdout",
     "output_type": "stream",
     "text": [
      "Probabilitas Posterior: 0.16526138279932534\n"
     ]
    }
   ],
   "source": [
    "print(\"Probabilitas Posterior:\", probabilitas_posterior)"
   ]
  },
  {
   "cell_type": "markdown",
   "metadata": {},
   "source": [
    "### Kesimpulan\n",
    "\n",
    "Probabilitas posterior ini memberikan perkiraan seberapa mungkin seorang pasien memiliki penyakit berdasarkan hasil tes laboratorium yang positif. Informasi ini dapat membantu dokter dalam proses diagnosa penyakit dengan memberikan panduan tambahan dalam menetapkan diagnosis dan memilih langkah-langkah pengobatan yang sesuai. Semakin tinggi probabilitas posterior, semakin besar kemungkinan pasien memiliki penyakit tersebut, dan dokter mungkin perlu melakukan lebih banyak tes atau pengamatan untuk mengonfirmasi diagnosis."
   ]
  }
 ],
 "metadata": {
  "kernelspec": {
   "display_name": "bol_datascience_course",
   "language": "python",
   "name": "python3"
  },
  "language_info": {
   "codemirror_mode": {
    "name": "ipython",
    "version": 3
   },
   "file_extension": ".py",
   "mimetype": "text/x-python",
   "name": "python",
   "nbconvert_exporter": "python",
   "pygments_lexer": "ipython3",
   "version": "3.8.18"
  }
 },
 "nbformat": 4,
 "nbformat_minor": 2
}
