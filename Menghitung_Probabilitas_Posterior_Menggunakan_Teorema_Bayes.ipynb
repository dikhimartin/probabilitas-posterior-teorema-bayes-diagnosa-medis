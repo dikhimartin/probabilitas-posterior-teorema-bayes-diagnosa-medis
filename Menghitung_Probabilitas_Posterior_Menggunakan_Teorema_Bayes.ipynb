{
 "cells": [
  {
   "cell_type": "markdown",
   "metadata": {},
   "source": [
    "## Menghitung Probabilitas Posterior Menggunakan Teorema Bayes"
   ]
  },
  {
   "cell_type": "markdown",
   "metadata": {},
   "source": [
    "### Langkah 1\n",
    "Import library yang dibutuhkan"
   ]
  },
  {
   "cell_type": "code",
   "execution_count": 1,
   "metadata": {},
   "outputs": [],
   "source": [
    "import numpy as np"
   ]
  },
  {
   "cell_type": "markdown",
   "metadata": {},
   "source": [
    "### Langkah 2: Menentukan Probabilitas Prior\n",
    "\n",
    "Probabilitas prior adalah probabilitas awal bahwa seorang pasien memiliki penyakit sebelum hasil tes dilakukan. Dalam kasus ini, probabilitas prior ditentukan sebagai berikut:\n",
    "\n",
    "$$ P(\\text{penyakit}) = 0.01 $$"
   ]
  },
  {
   "cell_type": "code",
   "execution_count": 2,
   "metadata": {},
   "outputs": [],
   "source": [
    "probabilitas_penyakit = 0.01"
   ]
  },
  {
   "cell_type": "markdown",
   "metadata": {},
   "source": [
    "### Langkah 3: Menghitung Probabilitas Posterior\n",
    "\n",
    "Untuk menghitung probabilitas posterior, kita menggunakan Teorema Bayes. Langkah-langkahnya adalah sebagai berikut:\n",
    "\n",
    "1. Menghitung Probabilitas Tes Positif pada Individu yang Benar-benar Sakit\n",
    "\n",
    "Probabilitas tes positif pada individu yang benar-benar sakit adalah tingkat kebenaran tes positif yang diberikan hasil penyakit. Ini adalah probabilitas sensitivitas.\n",
    "\n",
    "$$ P(\\text{tes positif} | \\text{sakit}) = 1 - \\text{tingkat kesalahan negatif palsu} = 1 - 0.02 = 0.98 $$\n",
    "\n",
    "2. Menghitung Probabilitas Tes Negatif pada Individu yang Tidak Sakit\n",
    "\n",
    "Probabilitas tes negatif pada individu yang tidak sakit adalah tingkat kebenaran tes negatif yang diberikan hasil sehat. Ini adalah probabilitas spesifisitas.\n",
    "\n",
    "$$ P(\\text{tes negatif} | \\text{sehat}) = 1 - \\text{tingkat kesalahan positif palsu} = 1 - 0.05 = 0.95 $$\n",
    "\n",
    "3. Menghitung Probabilitas Tes Positif secara Keseluruhan dengan Hukum Total Probabilitas\n",
    "\n",
    "Untuk menghitung probabilitas tes positif secara keseluruhan, kita menggunakan hukum total probabilitas. Ini melibatkan probabilitas tes positif pada individu yang sakit dan probabilitas tes positif pada individu yang sehat.\n",
    "\n",
    "$$ P(\\text{tes positif}) = P(\\text{tes positif} | \\text{sakit}) \\times P(\\text{sakit}) + P(\\text{tes positif} | \\text{sehat}) \\times P(\\text{sehat}) $$\n",
    "\n",
    "$$ = (0.98 \\times 0.01) + (0.05 \\times 0.99) = 0.0393 $$\n",
    "\n",
    "4. Menggunakan Teorema Bayes untuk Menghitung Probabilitas Posterior\n",
    "\n",
    "Setelah mendapatkan probabilitas tes positif secara keseluruhan, kita dapat menggunakan Teorema Bayes untuk menghitung probabilitas posterior bahwa seorang pasien yang mendapat tes positif pada tes laboratorium juga benar-benar memiliki penyakit ini.\n",
    "\n",
    "$$ P(\\text{sakit} | \\text{tes positif}) = \\frac{P(\\text{tes positif} | \\text{sakit}) \\times P(\\text{sakit})}{P(\\text{tes positif})} $$\n",
    "\n",
    "$$ = \\frac{0.98 \\times 0.01}{0.0393} = 0.2494 $$"
   ]
  },
  {
   "cell_type": "code",
   "execution_count": 3,
   "metadata": {},
   "outputs": [
    {
     "name": "stdout",
     "output_type": "stream",
     "text": [
      "Probabilitas Posterior: 0.16526138279932545\n"
     ]
    }
   ],
   "source": [
    "# Menghitung probabilitas tes positif secara keseluruhan\n",
    "probabilitas_tes_positif = (0.98 * 0.01) + (0.05 * 0.99)\n",
    "\n",
    "# Menggunakan Teorema Bayes untuk menghitung probabilitas posterior\n",
    "probabilitas_posterior = (0.98 * 0.01) / probabilitas_tes_positif\n",
    "print(\"Probabilitas Posterior:\", probabilitas_posterior)"
   ]
  },
  {
   "cell_type": "markdown",
   "metadata": {},
   "source": [
    "### Kesimpulan\n",
    "\n",
    "Probabilitas posterior adalah probabilitas bahwa seorang pasien yang mendapat tes positif pada tes laboratorium juga benar-benar memiliki penyakit tersebut. Dalam konteks medis, hasil ini menunjukkan seberapa besar kepercayaan dokter bahwa pasien yang mendapat tes positif benar-benar menderita penyakit. Informasi ini membantu dokter dalam proses diagnosa penyakit dengan memberikan panduan tentang langkah selanjutnya dalam perawatan pasien. Semakin tinggi probabilitas posterior, semakin besar kemungkinan pasien menderita penyakit dan dokter mungkin akan merekomendasikan pengujian lebih lanjut atau pengobatan yang tepat."
   ]
  }
 ],
 "metadata": {
  "kernelspec": {
   "display_name": "bol_datascience_course",
   "language": "python",
   "name": "python3"
  },
  "language_info": {
   "codemirror_mode": {
    "name": "ipython",
    "version": 3
   },
   "file_extension": ".py",
   "mimetype": "text/x-python",
   "name": "python",
   "nbconvert_exporter": "python",
   "pygments_lexer": "ipython3",
   "version": "3.8.18"
  }
 },
 "nbformat": 4,
 "nbformat_minor": 2
}
